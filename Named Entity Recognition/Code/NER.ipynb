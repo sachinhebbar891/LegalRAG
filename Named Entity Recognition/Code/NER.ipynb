{
  "nbformat": 4,
  "nbformat_minor": 0,
  "metadata": {
    "colab": {
      "provenance": []
    },
    "kernelspec": {
      "name": "python3",
      "display_name": "Python 3"
    },
    "language_info": {
      "name": "python"
    }
  },
  "cells": [
    {
      "cell_type": "code",
      "execution_count": null,
      "metadata": {
        "id": "KTgLjNJtoXhU"
      },
      "outputs": [],
      "source": [
        "# import packages\n",
        "import spacy\n",
        "import re"
      ]
    },
    {
      "cell_type": "code",
      "source": [
        "# Load the spaCy English model\n",
        "nlp = spacy.load(\"en_core_web_sm\")"
      ],
      "metadata": {
        "id": "ZRQ8avNnpbb-"
      },
      "execution_count": null,
      "outputs": []
    },
    {
      "cell_type": "code",
      "source": [
        "# PII entity labels to extract\n",
        "pii_labels = {\"PERSON\", \"ORG\", \"EMAIL\", \"PHONE\", \"DATE\"}"
      ],
      "metadata": {
        "id": "YaMtIw6OQj-s"
      },
      "execution_count": null,
      "outputs": []
    },
    {
      "cell_type": "markdown",
      "source": [
        "## Divorce cases"
      ],
      "metadata": {
        "id": "Yc06WCh0QQN1"
      }
    },
    {
      "cell_type": "code",
      "source": [
        "# read the divorce cases data\n",
        "with open(\"/content/divorce cases.txt\", \"r\", encoding=\"utf-8\") as file:\n",
        "    text = file.read()"
      ],
      "metadata": {
        "id": "GrW3AdoTpq8l"
      },
      "execution_count": null,
      "outputs": []
    },
    {
      "cell_type": "code",
      "source": [
        "divorce_doc = nlp(text)\n",
        "\n",
        "person = []\n",
        "organization = []\n",
        "email = []\n",
        "phone = []\n",
        "date = []\n",
        "\n",
        "masked_text = text\n",
        "\n",
        "# Extract PII entities and mask the data\n",
        "for ent in divorce_doc.ents:\n",
        "    if ent.label_ == \"PERSON\":\n",
        "        person.append(ent.text)\n",
        "        masked_text = masked_text.replace(ent.text, \"****\")\n",
        "\n",
        "    elif ent.label_ == \"ORG\":\n",
        "        organization.append(ent.text)\n",
        "\n",
        "    elif ent.label_ == \"EMAIL\":\n",
        "        email.append(ent.text)\n",
        "        masked_text = masked_text.replace(ent.text, \"****\")\n",
        "\n",
        "    elif ent.label_ == \"PHONE\":\n",
        "        phone.append(ent.text)\n",
        "        masked_text = masked_text.replace(ent.text, \"****\")\n",
        "\n",
        "    elif ent.label_ == \"DATE\":\n",
        "        date.append(ent.text)"
      ],
      "metadata": {
        "id": "jocDrfpvpkUi"
      },
      "execution_count": null,
      "outputs": []
    },
    {
      "cell_type": "code",
      "source": [
        "print(\"person name PII:\")\n",
        "print(person)\n",
        "print(\"Org name PII:\")\n",
        "print(organization)\n",
        "print(\"Email PII:\")\n",
        "print(email)\n",
        "print(\"Phone PII:\")\n",
        "print(phone)\n",
        "print(\"Date PII:\")\n",
        "print(date)"
      ],
      "metadata": {
        "colab": {
          "base_uri": "https://localhost:8080/"
        },
        "id": "gnCeYPWsREia",
        "outputId": "86c99ec6-370a-4a90-96ca-caea02c802d2"
      },
      "execution_count": null,
      "outputs": [
        {
          "output_type": "stream",
          "name": "stdout",
          "text": [
            "person name PII:\n",
            "['Vishnu Dutt Sharma', 'Manju Sharma', 'Reddy', 'Bhooma', 'Latifi', 'Shayara Bano', 'Shayara Bano']\n",
            "Org name PII:\n",
            "['The Supreme Court', 'Union of India', 'The Kerala High Court', 'Union of India', 'the Muslim Women (Protection of Rights on Divorce', 'Union of India', 'The Supreme Court', 'the Muslim Women (Protection of Rights on Marriage) Act']\n",
            "Email PII:\n",
            "[]\n",
            "Phone PII:\n",
            "[]\n",
            "Date PII:\n",
            "['2009', '1955', '1973', '1995', '1869', '2001', '1986', '1985', '2017', '2019']\n"
          ]
        }
      ]
    },
    {
      "cell_type": "code",
      "source": [
        "# write the masked data\n",
        "with open(\"masked_divorce.txt\", \"w\", encoding=\"utf-8\") as file:\n",
        "    file.write(masked_text)"
      ],
      "metadata": {
        "id": "zlJCoO68p2Y8"
      },
      "execution_count": null,
      "outputs": []
    },
    {
      "cell_type": "code",
      "source": [
        "# read the masked divorce cases data\n",
        "with open(\"/content/divorce cases.txt\", \"r\", encoding=\"utf-8\") as file:\n",
        "    text = file.read()\n",
        "\n",
        "print(text[:400])"
      ],
      "metadata": {
        "colab": {
          "base_uri": "https://localhost:8080/"
        },
        "id": "61fVz0RSTx2G",
        "outputId": "640b2ab7-a493-44a5-b3d3-f651259c2fe4"
      },
      "execution_count": null,
      "outputs": [
        {
          "output_type": "stream",
          "name": "stdout",
          "text": [
            "﻿Here are a few landmark divorce cases in India that significantly influenced the evolution of divorce laws in the country:\n",
            "1. Vishnu Dutt Sharma vs. Manju Sharma (2009)\n",
            "* Significance: Defined \"cruelty\" under the Hindu Marriage Act, 1955.\n",
            "* Summary: The Supreme Court ruled that persistent accusations without proof, baseless allegations of adultery, and mental harassment constitute cruelty. This c\n"
          ]
        }
      ]
    },
    {
      "cell_type": "code",
      "source": [
        "# read the masked divorce cases data\n",
        "with open(\"/content/masked_divorce.txt\", \"r\", encoding=\"utf-8\") as file:\n",
        "    text = file.read()\n",
        "\n",
        "print(text[:400])"
      ],
      "metadata": {
        "id": "RF4hOfvQqYwD",
        "outputId": "31a564ac-1d1c-4c32-df61-fc5ff0d9142f",
        "colab": {
          "base_uri": "https://localhost:8080/"
        }
      },
      "execution_count": null,
      "outputs": [
        {
          "output_type": "stream",
          "name": "stdout",
          "text": [
            "﻿Here are a few landmark divorce cases in India that significantly influenced the evolution of divorce laws in the country:\n",
            "1. **** vs. **** (2009)\n",
            "* Significance: Defined \"cruelty\" under the Hindu Marriage Act, 1955.\n",
            "* Summary: The Supreme Court ruled that persistent accusations without proof, baseless allegations of adultery, and mental harassment constitute cruelty. This case strengthened the l\n"
          ]
        }
      ]
    },
    {
      "cell_type": "markdown",
      "source": [
        "## Inheritance cases"
      ],
      "metadata": {
        "id": "Jn9tQa1iSeE2"
      }
    },
    {
      "cell_type": "code",
      "source": [
        "# read the inheritance cases data\n",
        "with open(\"/content/inheritance dispute cases.txt\", \"r\", encoding=\"utf-8\") as file:\n",
        "    text = file.read()"
      ],
      "metadata": {
        "id": "awwR6QJwSoG_"
      },
      "execution_count": null,
      "outputs": []
    },
    {
      "cell_type": "code",
      "source": [
        "inheritance_doc = nlp(text)\n",
        "\n",
        "person = []\n",
        "organization = []\n",
        "email = []\n",
        "phone = []\n",
        "date = []\n",
        "\n",
        "masked_text = text\n",
        "\n",
        "# Extract PII entities and mask the data\n",
        "for ent in inheritance_doc.ents:\n",
        "    if ent.label_ == \"PERSON\":\n",
        "        person.append(ent.text)\n",
        "        masked_text = masked_text.replace(ent.text, \"****\")\n",
        "\n",
        "    elif ent.label_ == \"ORG\":\n",
        "        organization.append(ent.text)\n",
        "        masked_text = masked_text.replace(ent.text, \"****\")\n",
        "\n",
        "    elif ent.label_ == \"EMAIL\":\n",
        "        email.append(ent.text)\n",
        "        masked_text = masked_text.replace(ent.text, \"****\")\n",
        "\n",
        "    elif ent.label_ == \"PHONE\":\n",
        "        phone.append(ent.text)\n",
        "        masked_text = masked_text.replace(ent.text, \"****\")\n",
        "\n",
        "    elif ent.label_ == \"DATE\":\n",
        "        date.append(ent.text)\n",
        "\n",
        "print(\"person name PII:\")\n",
        "print(person)\n",
        "print(\"Org name PII:\")\n",
        "print(organization)\n",
        "print(\"Email PII:\")\n",
        "print(email)\n",
        "print(\"Phone PII:\")\n",
        "print(phone)\n",
        "print(\"Date PII:\")\n",
        "print(date)"
      ],
      "metadata": {
        "colab": {
          "base_uri": "https://localhost:8080/"
        },
        "id": "d-IbDN-lSJw9",
        "outputId": "ad23d93b-261c-47d3-9223-b9aac5dc32a4"
      },
      "execution_count": null,
      "outputs": [
        {
          "output_type": "stream",
          "name": "stdout",
          "text": [
            "person name PII:\n",
            "['Vineeta Sharma', 'Mary Roy', 'Kerala', 'Mary Roy', 'Arundhati Roy', 'Laxmi Narayan', 'Shagun Gupta', 'Sangeeta Jain']\n",
            "Org name PII:\n",
            "['Prakash & Ors', 'Phulavati & Ors', 'the Hindu Succession', 'Hindu Undivided Family', 'The Supreme Court', 'Rakesh Sharma & Ors', 'The Supreme Court', 'The Supreme Court', 'The Supreme Court', 'The Supreme Court']\n",
            "Email PII:\n",
            "[]\n",
            "Phone PII:\n",
            "[]\n",
            "Date PII:\n",
            "['2015', '2005', '2005', 'September 9, 2005', '2020', '2005', '1986', '1925', '2013', '2021']\n"
          ]
        }
      ]
    },
    {
      "cell_type": "code",
      "source": [
        "# write the masked data\n",
        "with open(\"masked_inheritance.txt\", \"w\", encoding=\"utf-8\") as file:\n",
        "    file.write(masked_text)"
      ],
      "metadata": {
        "id": "8hi_70UfSxRd"
      },
      "execution_count": null,
      "outputs": []
    },
    {
      "cell_type": "markdown",
      "source": [
        "## Consumer protection cases"
      ],
      "metadata": {
        "id": "kaXoUxkvTCIT"
      }
    },
    {
      "cell_type": "code",
      "source": [
        "# read the consumer protection cases data\n",
        "with open(\"/content/consumer protection cases.txt\", \"r\", encoding=\"utf-8\") as file:\n",
        "    text = file.read()"
      ],
      "metadata": {
        "id": "Btzhaw84TBV4"
      },
      "execution_count": null,
      "outputs": []
    },
    {
      "cell_type": "code",
      "source": [
        "consumer_doc = nlp(text)\n",
        "\n",
        "person = []\n",
        "organization = []\n",
        "email = []\n",
        "phone = []\n",
        "date = []\n",
        "\n",
        "masked_text = text\n",
        "\n",
        "# Extract PII entities and mask the data\n",
        "for ent in consumer_doc.ents:\n",
        "    if ent.label_ == \"PERSON\":\n",
        "        person.append(ent.text)\n",
        "        masked_text = masked_text.replace(ent.text, \"****\")\n",
        "\n",
        "    elif ent.label_ == \"ORG\":\n",
        "        organization.append(ent.text)\n",
        "        masked_text = masked_text.replace(ent.text, \"****\")\n",
        "\n",
        "    elif ent.label_ == \"EMAIL\":\n",
        "        email.append(ent.text)\n",
        "        masked_text = masked_text.replace(ent.text, \"****\")\n",
        "\n",
        "    elif ent.label_ == \"PHONE\":\n",
        "        phone.append(ent.text)\n",
        "        masked_text = masked_text.replace(ent.text, \"****\")\n",
        "\n",
        "    elif ent.label_ == \"DATE\":\n",
        "        date.append(ent.text)\n",
        "\n",
        "print(\"person name PII:\")\n",
        "print(person)\n",
        "print(\"Org name PII:\")\n",
        "print(organization)\n",
        "print(\"Email PII:\")\n",
        "print(email)\n",
        "print(\"Phone PII:\")\n",
        "print(phone)\n",
        "print(\"Date PII:\")\n",
        "print(date)"
      ],
      "metadata": {
        "colab": {
          "base_uri": "https://localhost:8080/"
        },
        "id": "82wlmx8VTJUW",
        "outputId": "7000a2e9-f016-4192-c2ac-6f76164bfc87"
      },
      "execution_count": null,
      "outputs": [
        {
          "output_type": "stream",
          "name": "stdout",
          "text": [
            "person name PII:\n",
            "['V.P. Shantha', 'Kumar Shukla', 'Ajay Kumar Agarwal', 'Ajay Kumar Agarwal', 'Kaushal Kishor Gupta', 'Kaushal Kishor Gupta', 'Bata India']\n",
            "Org name PII:\n",
            "['Indian Medical Association', 'V.P. Shantha & Ors', 'The Supreme Court', 'Ferrous Infrastructure Pvt. Ltd.', 'Ferrous Infrastructure Pvt. Ltd.', 'The National Consumer Disputes Redressal Commission', 'NCDRC', 'NCDRC', 'Maruti Udyog Ltd.', 'The Supreme Court', 'Vodafone India Ltd.', 'Vodafone India', 'NCDRC', 'Bata India Ltd.']\n",
            "Email PII:\n",
            "[]\n",
            "Phone PII:\n",
            "[]\n",
            "Date PII:\n",
            "['1995', '1986', '2017', '2009', '2019', '2019']\n"
          ]
        }
      ]
    },
    {
      "cell_type": "code",
      "source": [
        "# write the masked data\n",
        "with open(\"masked_consumer_protection.txt\", \"w\", encoding=\"utf-8\") as file:\n",
        "    file.write(masked_text)"
      ],
      "metadata": {
        "id": "js-zf73vTLIJ"
      },
      "execution_count": null,
      "outputs": []
    },
    {
      "cell_type": "markdown",
      "source": [
        "## Copyright cases"
      ],
      "metadata": {
        "id": "sjkVc8MZTRne"
      }
    },
    {
      "cell_type": "code",
      "source": [
        "# read the copyright cases data\n",
        "with open(\"/content/copyright cases.txt\", \"r\", encoding=\"utf-8\") as file:\n",
        "    text = file.read()"
      ],
      "metadata": {
        "id": "WBrjp024TQ4l"
      },
      "execution_count": null,
      "outputs": []
    },
    {
      "cell_type": "code",
      "source": [
        "copyright_doc = nlp(text)\n",
        "\n",
        "person = []\n",
        "organization = []\n",
        "email = []\n",
        "phone = []\n",
        "date = []\n",
        "\n",
        "masked_text = text\n",
        "\n",
        "# Extract PII entities and mask the data\n",
        "for ent in copyright_doc.ents:\n",
        "    if ent.label_ == \"PERSON\":\n",
        "        person.append(ent.text)\n",
        "        masked_text = masked_text.replace(ent.text, \"****\")\n",
        "\n",
        "    elif ent.label_ == \"ORG\":\n",
        "        organization.append(ent.text)\n",
        "        masked_text = masked_text.replace(ent.text, \"****\")\n",
        "\n",
        "    elif ent.label_ == \"EMAIL\":\n",
        "        email.append(ent.text)\n",
        "        masked_text = masked_text.replace(ent.text, \"****\")\n",
        "\n",
        "    elif ent.label_ == \"PHONE\":\n",
        "        phone.append(ent.text)\n",
        "        masked_text = masked_text.replace(ent.text, \"****\")\n",
        "\n",
        "    elif ent.label_ == \"DATE\":\n",
        "        date.append(ent.text)\n",
        "\n",
        "print(\"person name PII:\")\n",
        "print(person)\n",
        "print(\"Org name PII:\")\n",
        "print(organization)\n",
        "print(\"Email PII:\")\n",
        "print(email)\n",
        "print(\"Phone PII:\")\n",
        "print(phone)\n",
        "print(\"Date PII:\")\n",
        "print(date)"
      ],
      "metadata": {
        "colab": {
          "base_uri": "https://localhost:8080/"
        },
        "id": "0FeTk7iOTakr",
        "outputId": "38b7ccfb-cd79-4e43-a8e4-bb1689b5a9de"
      },
      "execution_count": null,
      "outputs": [
        {
          "output_type": "stream",
          "name": "stdout",
          "text": [
            "person name PII:\n",
            "['R.G. Anand', 'Playwright R.G. Anand', 'Delux Films', 'Hum Hindustani', 'D.B. Modak', 'D.B. Modak', 'Super Cassettes', 'MySpace', 'Yashraj Films', \"Yashraj Films'\", 'Penguin Random House']\n",
            "Org name PII:\n",
            "['The Supreme Court', 'Eastern Book Company', 'Eastern Book Company', 'Supreme Court', 'The Supreme Court', 'Super Cassettes Industries Ltd.', 'MySpace Inc.', 'The Delhi High Court', 'MySpace', 'The Delhi High Court', 'Rameshwari Photocopy Services', 'Oxford University Press', 'Rameshwari Photocopy Services', 'Delhi University', 'The Delhi High Court']\n",
            "Email PII:\n",
            "[]\n",
            "Phone PII:\n",
            "[]\n",
            "Date PII:\n",
            "['1978', '1956', '2008', '2011', '2013', '2016']\n"
          ]
        }
      ]
    },
    {
      "cell_type": "code",
      "source": [
        "# write the masked data\n",
        "with open(\"masked_copyright.txt\", \"w\", encoding=\"utf-8\") as file:\n",
        "    file.write(masked_text)"
      ],
      "metadata": {
        "id": "Pb3KUBE9Tc-c"
      },
      "execution_count": null,
      "outputs": []
    }
  ]
}